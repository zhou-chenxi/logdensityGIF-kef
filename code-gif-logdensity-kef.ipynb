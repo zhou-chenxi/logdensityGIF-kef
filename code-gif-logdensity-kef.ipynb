{
 "cells": [
  {
   "cell_type": "code",
   "execution_count": 1,
   "metadata": {},
   "outputs": [],
   "source": [
    "import os \n",
    "import numpy as np\n",
    "import pandas as pd\n",
    "from copy import deepcopy\n",
    "import seaborn\n",
    "\n",
    "import matplotlib.pyplot as plt\n",
    "from matplotlib.animation import FuncAnimation\n",
    "%matplotlib qt"
   ]
  },
  {
   "cell_type": "code",
   "execution_count": 2,
   "metadata": {},
   "outputs": [],
   "source": [
    "true_data = np.load('data/geyser.npy').astype(np.float64)\n",
    "waiting = true_data[:, 0]\n",
    "waiting = waiting[waiting != 108.].reshape(-1, 1)\n",
    "bw = 5.2"
   ]
  },
  {
   "cell_type": "code",
   "execution_count": 3,
   "metadata": {},
   "outputs": [
    {
     "data": {
      "text/plain": [
       "array([ 90., 100., 101., 102., 103., 104., 105., 106., 107., 108., 109.,\n",
       "       110., 120., 130., 140., 150., 160., 170., 180., 190., 200., 210.,\n",
       "       220., 230., 240., 250., 260., 270., 280., 290., 300., 310., 320.,\n",
       "       330., 340., 350., 360., 370., 380., 390., 400.])"
      ]
     },
     "execution_count": 3,
     "metadata": {},
     "output_type": "execute_result"
    }
   ],
   "source": [
    "outlier_list = np.concatenate([np.arange(90., 410., 10), np.arange(101., 110., 1)])\n",
    "outlier_list = np.sort(outlier_list)\n",
    "outlier_list"
   ]
  },
  {
   "cell_type": "code",
   "execution_count": 4,
   "metadata": {},
   "outputs": [],
   "source": [
    "log_pen_param = -13\n",
    "xlimit = (21., 410.)\n",
    "plot_pts_cnt = 2000\n",
    "newx = np.linspace(xlimit[0], xlimit[1], plot_pts_cnt)\n",
    "kernelfunction_name = 'Gaussian'\n",
    "var_name = 'waiting'\n",
    "fontsize_label = 20\n",
    "fontsize_tick = 10\n",
    "fontsize_info = 20\n",
    "fontsize_title = 12\n",
    "fontsize_suptitle = 22\n",
    "\n",
    "linewidth = 3.0\n",
    "scilimits = (0, 3)"
   ]
  },
  {
   "cell_type": "code",
   "execution_count": 6,
   "metadata": {
    "scrolled": false
   },
   "outputs": [],
   "source": [
    "fig, ax = plt.subplots(\n",
    "    nrows = 1, \n",
    "    ncols = 1, \n",
    "    figsize = (20, 10), \n",
    "    # tight_layout = True, \n",
    "    constrained_layout = False)\n",
    "\n",
    "fig.subplots_adjust(top=0.9)\n",
    "base = 'uniform'\n",
    "\n",
    "def update_plots(outlier): \n",
    "\n",
    "    # read in the original data \n",
    "    true_data = np.load('data/geyser.npy').astype(np.float64)\n",
    "    df = deepcopy(true_data[:, 0]).reshape(-1, 1)\n",
    "    df[df == 108.0] = outlier\n",
    "    \n",
    "    pddf = pd.DataFrame({'vals': df.flatten(),\n",
    "                         'cate': [False if df[i] != outlier else True for i in range(df.shape[0])]})\n",
    "    \n",
    "    ax.clear()\n",
    "    \n",
    "    # ---------------------------------------------------------------------------------------\n",
    "    # set x-limit \n",
    "    ax.set_xlim(xlimit)\n",
    "    # set x label \n",
    "    ax.set_xlabel(var_name, fontsize = fontsize_label)\n",
    "    # set y label \n",
    "    ax.set_ylabel('unnormalized log density', fontsize = fontsize_label)\n",
    "    # ax.set_ylim((-110., 110.))\n",
    "    # formatting tick marks and tick labels \n",
    "    ax.tick_params(axis = 'both', labelsize = fontsize_tick)\n",
    "    ax.ticklabel_format(axis = 'y')\n",
    "    # add rug plot at normal observations \n",
    "    seaborn.rugplot(pddf['vals'], axis = 'x', ax = ax, color = 'tab:blue')\n",
    "    seaborn.rugplot(np.array([outlier]), axis = 'x', ax = ax, color = 'red')\n",
    "    \n",
    "    file_name_grid = f'data/geyser-waiting-gaussiankernel-{base}base-bw{bw}-lambda-exp({log_pen_param})/' \\\n",
    "                     f'log-density-value-shift-{outlier}.npy'\n",
    "    denvals_grid = np.load(file_name_grid)\n",
    "    # plot log density when the basis functions are centered at grid points \n",
    "    ax.plot(newx.flatten(), denvals_grid.flatten(), color = 'tab:blue', linewidth = linewidth)\n",
    "    \n",
    "    # draw a vertical line at the outlier \n",
    "    ax.axvline(outlier, 0, 1, ls = '--', color = 'tab:purple', alpha = 0.5)\n",
    "    # ax.axhline(np.max(denvals_grid.flatten()), 0, 1, ls = '--', color = 'tab:purple', alpha = 0.5)\n",
    "    \n",
    "#     # add grid\n",
    "#     ax1.grid(color = 'k', ls = (0, (3, 10, 1, 10)), lw = 0.25)\n",
    "\n",
    "    # add plot information \n",
    "    info = f'Add {outlier}'\n",
    "    ax.text(0.988, 0.988,\n",
    "            info,\n",
    "             fontsize = fontsize_info,\n",
    "             # fontfamily = 'serif',\n",
    "             multialignment = 'left',\n",
    "             horizontalalignment = 'right',\n",
    "             verticalalignment = 'top',\n",
    "             transform = ax.transAxes,\n",
    "             bbox = {'facecolor': 'none',\n",
    "                     'boxstyle': 'Round, pad=0.2'})\n",
    "    \n",
    "    return ax\n",
    "\n",
    "ani = FuncAnimation(\n",
    "    fig, \n",
    "    update_plots, \n",
    "    frames = outlier_list, \n",
    "    interval = 500)\n",
    "\n",
    "fig.suptitle(r'Logarithm of Score Matching Density Estimates with $\\sigma$={bw} and $\\lambda$=exp({pen})'.format(\n",
    "    bw=bw, pen=-10.0), \n",
    "             fontsize = fontsize_suptitle, y = 0.98)\n",
    "\n",
    "# uncomment the following line to save the gif\n",
    "ani.save(f'gif/waiting_Gaussian_bw={bw}_{base}base_pen_exp({log_pen_param}).gif', writer='imagemagick')\n",
    "\n",
    "plt.show()"
   ]
  },
  {
   "cell_type": "code",
   "execution_count": null,
   "metadata": {},
   "outputs": [],
   "source": []
  }
 ],
 "metadata": {
  "kernelspec": {
   "display_name": "Python 3",
   "language": "python",
   "name": "python3"
  },
  "language_info": {
   "codemirror_mode": {
    "name": "ipython",
    "version": 3
   },
   "file_extension": ".py",
   "mimetype": "text/x-python",
   "name": "python",
   "nbconvert_exporter": "python",
   "pygments_lexer": "ipython3",
   "version": "3.8.3"
  }
 },
 "nbformat": 4,
 "nbformat_minor": 4
}
